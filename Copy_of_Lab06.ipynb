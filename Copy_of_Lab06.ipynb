{
  "cells": [
    {
      "cell_type": "markdown",
      "metadata": {
        "id": "view-in-github",
        "colab_type": "text"
      },
      "source": [
        "<a href=\"https://colab.research.google.com/github/aryamanb10/aryamanb10.github.io/blob/master/Copy_of_Lab06.ipynb\" target=\"_parent\"><img src=\"https://colab.research.google.com/assets/colab-badge.svg\" alt=\"Open In Colab\"/></a>"
      ]
    },
    {
      "cell_type": "markdown",
      "metadata": {
        "id": "1ffjBJA1dp2Y"
      },
      "source": [
        "<a href=\"https://colab.research.google.com/github/LMU-CMSI-1010/lab-notebooks-original/blob/main/Lab06.ipynb\" target=\"_parent\"><img src=\"https://colab.research.google.com/assets/colab-badge.svg\" alt=\"Open In Colab\"/></a>"
      ]
    },
    {
      "cell_type": "markdown",
      "metadata": {
        "id": "9aXfrLXg9seM"
      },
      "source": [
        "# Lab 06 Mixing Strings\n",
        "In this lab, you will practice working with strings and using loops with strings.\n",
        "\n",
        "## Warmup: Character counter\n",
        "\n",
        "In the following cell, **complete the function `count_character` that, given a string and character, returns the number of occurrences of the character in the string.** Right now, it just returns 0. We have some code to test your function and **you can add more calls to test it.**\n",
        "\n"
      ]
    },
    {
      "cell_type": "code",
      "execution_count": 13,
      "metadata": {
        "id": "Rt0kFDWS9RJU",
        "colab": {
          "base_uri": "https://localhost:8080/"
        },
        "outputId": "88d40a98-871d-4cfd-b906-e90ef3e65a27"
      },
      "outputs": [
        {
          "output_type": "stream",
          "name": "stdout",
          "text": [
            "3\n",
            "4\n"
          ]
        }
      ],
      "source": [
        "# TODO: count_character is given a string s and a character c and returns the number\n",
        "# of occurrences of c in s\n",
        "def count_character(s, c):\n",
        "  counter=0\n",
        "  for p in s:\n",
        "    if p == c:\n",
        "      counter = counter+1\n",
        "  return int(counter)\n",
        "\n",
        "# Debugging function calls. You can add more or change\n",
        "# The following should return 3\n",
        "char_count = count_character('banana', 'a')\n",
        "print(char_count)\n",
        "\n",
        "# The following call should return 4\n",
        "char_count = count_character('mississippi', 's')\n",
        "print(char_count)\n",
        "\n",
        "# The following tests your code. Do not modify it.\n",
        "assert(count_character('banana', 'a') == 3)\n",
        "assert(count_character('mississippi', 's') == 4)\n",
        "assert(count_character('loyola', 'l') == 2)"
      ]
    },
    {
      "cell_type": "markdown",
      "metadata": {
        "id": "y2c-tRWA91fr"
      },
      "source": [
        "## Repeating Strings\n",
        "Python gives you an operator to make multiple copies of a string. However, below we want you to **complete this function to return a string `s` repeated `n` times _using a loop_ instead.** You can **test your code by running the code we have provided and creating your own function calls.**"
      ]
    },
    {
      "cell_type": "code",
      "execution_count": 25,
      "metadata": {
        "id": "NMcvm3E4-sl_",
        "colab": {
          "base_uri": "https://localhost:8080/"
        },
        "outputId": "194c6f21-f011-4b6a-cad5-53ca5651ae9f"
      },
      "outputs": [
        {
          "output_type": "stream",
          "name": "stdout",
          "text": [
            "hihihi\n",
            "hihihihihi\n"
          ]
        }
      ],
      "source": [
        "# TODO: repeat_string is given the string s and returns a string that is n copies\n",
        "# of it.\n",
        "def repeat_string(s, n):\n",
        "    out = ''\n",
        "    for i in range(n):\n",
        "      out = out+s\n",
        "    return out\n",
        "\n",
        "print(repeat_string('hi', 3))\n",
        "# The code below tests your function. Do not modify it.\n",
        "assert(repeat_string('hello', 3) == 'hellohellohello')\n",
        "assert(repeat_string('hi', 5) == 'hihihihihi')"
      ]
    },
    {
      "cell_type": "markdown",
      "metadata": {
        "id": "zXC7orYI_T3E"
      },
      "source": [
        "## Mixing names\n",
        "In the following cell, you will write a program that will prompt a user for two names. The user should enter a first name and last name separated by a space.\n",
        "**You will have to figure out how to retrieve the first name and last name from the name input by the user. Then you will mix the two names up and output the new mixed names.**"
      ]
    },
    {
      "cell_type": "code",
      "execution_count": 9,
      "metadata": {
        "id": "fpq9XjRC_TJG",
        "colab": {
          "base_uri": "https://localhost:8080/"
        },
        "outputId": "bcef8568-12f3-43f9-9814-6f50f445595b"
      },
      "outputs": [
        {
          "output_type": "stream",
          "name": "stdout",
          "text": [
            "Please enter a FIRST NAME followed by a LAST NAME separated by a space: aryaman bajaj\n",
            "Please enter another FIRST NAME followed by a LAST NAME separated by a space: nysa arora\n",
            "Here are the mixed first names from random places:\n",
            "Arysa\n",
            "Nyaman\n",
            "Here are the new mixed up names:\n",
            "Aryaman Arora\n",
            "Nysa Bajaj\n"
          ]
        }
      ],
      "source": [
        "name1 = input('Please enter a FIRST NAME followed by a LAST NAME separated by a space: ')\n",
        "name2 = input('Please enter another FIRST NAME followed by a LAST NAME separated by a space: ')\n",
        "\n",
        "# TODO: Now process the user input to find the first names and last names\n",
        "# Right now you have strings containing both, so find the space first\n",
        "# and save the first name substrings and the last name substrings in separate variables\n",
        "# If you prefer, you can also use split() to separate the first and last names\n",
        "\n",
        "name1_list=name1.split()\n",
        "name2_list=name2.split()\n",
        "\n",
        "\n",
        "# TODO: In order to mix up the strings you need to find the midpoint of each name\n",
        "# Challenge: How could you split strings at random points instead?\n",
        "\n",
        "name1_first = name1_list[0].lower().capitalize()\n",
        "name1_last = name1_list[1].lower().capitalize()\n",
        "name2_first = name2_list[0].lower().capitalize()\n",
        "name2_last = name2_list[1].lower().capitalize()\n",
        "\n",
        "end_index=int(len(name1_first)/2)\n",
        "end_secindex=int(len(name2_first)/2)\n",
        "name1_first_half=name1_first[0:end_index].lower().capitalize()\n",
        "name1_last_sechalf=name1_first[end_index:].lower()\n",
        "name2_first_half=name2_first[0:end_secindex].lower().capitalize()\n",
        "name2_last_sechalf=name2_first[end_secindex:].lower()\n",
        "\n",
        "\n",
        "# TODO: Get the substrings for the first halves and second halves of each name\n",
        "# You want to combine the names to create 2 new first and last names\n",
        "# Make sure the capitalization is correct\n",
        "# Use capitalize() to capitalize and lower() to make all lowercase\n",
        "# Combine the first half of the first first name and the second half of the second\n",
        "# first name to create a new first name\n",
        "\n",
        "new_first_name1 = name1_first\n",
        "mix_name=name1_first_half+name2_last_sechalf\n",
        "mix_name1=name2_first_half+name1_last_sechalf\n",
        "print('Here are the mixed first names from random places:')\n",
        "print(mix_name)\n",
        "print(mix_name1)\n",
        "\n",
        "\n",
        "\n",
        "# TODO: Combine the first half of the first last name and the second half of the second\n",
        "# last name to create a new last name\n",
        "new_last_name1 = name2_last\n",
        "\n",
        "# TODO: Combine the first half of the second first name and the second half of the first\n",
        "# first name to create a new first name\n",
        "\n",
        "new_first_name2 = name2_first\n",
        "\n",
        "# TODO: Combine the first half of the second last name and the second half of the first\n",
        "# last name to create a new last name\n",
        "new_last_name2 = name1_last\n",
        "\n",
        "# print out both new names\n",
        "# you do not need to change the following code.\n",
        "print('Here are the new mixed up names:')\n",
        "print(new_first_name1, new_last_name1)\n",
        "print(new_first_name2, new_last_name2)\n",
        "\n",
        "assert(new_first_name1 != '')\n",
        "assert(new_first_name2 != '')\n",
        "assert(new_last_name1 != '')\n",
        "assert(new_last_name2 != '')"
      ]
    },
    {
      "cell_type": "markdown",
      "metadata": {
        "id": "dKL0LYd-E4JB"
      },
      "source": [
        "### (Optional) Reflections\n",
        "Add a text cell below to answer the following questions:\n",
        "1. What do you feel more confident about after completing this lab?\n",
        "2. What do you feel you can use more help with after completing this lab?\n",
        "3. Do you have any constructive suggestions on how we can help you or improve this lab?"
      ]
    },
    {
      "cell_type": "markdown",
      "source": [
        "***\n",
        "1) Using strings, length, and other topics done in class today\n",
        "\n",
        "2) Functions\n",
        "\n",
        "3) N/A\n",
        "***"
      ],
      "metadata": {
        "id": "MlcAusOZJaff"
      }
    },
    {
      "cell_type": "markdown",
      "metadata": {
        "id": "gB1aHDpyFYey"
      },
      "source": [
        "### Save your work to GitHub\n",
        "Please save this notebook to your lab repository."
      ]
    }
  ],
  "metadata": {
    "kernelspec": {
      "display_name": "Python 3",
      "language": "python",
      "name": "python3"
    },
    "language_info": {
      "codemirror_mode": {
        "name": "ipython",
        "version": 3
      },
      "file_extension": ".py",
      "mimetype": "text/x-python",
      "name": "python",
      "nbconvert_exporter": "python",
      "pygments_lexer": "ipython3",
      "version": "3.8.5"
    },
    "colab": {
      "provenance": [],
      "include_colab_link": true
    }
  },
  "nbformat": 4,
  "nbformat_minor": 0
}